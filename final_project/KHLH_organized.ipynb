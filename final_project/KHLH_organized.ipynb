{
 "cells": [
  {
   "cell_type": "markdown",
   "metadata": {},
   "source": [
    "# An Investigation of Keyhole Limpet Hemocyanin"
   ]
  },
  {
   "cell_type": "markdown",
   "metadata": {},
   "source": [
    "<b> Aldo Amaya: aamaya@brandeis.edu <br>\n",
    "Dean Hoffer: hofferd@brandeis.edu <br>\n",
    "Michael Ruggiero: michaelruggiero@brandeis.edu<br>\n",
    "<br><em>September 22nd, 2020</em></b>"
   ]
  },
  {
   "cell_type": "markdown",
   "metadata": {
    "toc": true
   },
   "source": [
    "<h1>Table of Contents<span class=\"tocSkip\"></span></h1>\n",
    "<div class=\"toc\"><ul class=\"toc-item\"><li><span><a href=\"#Introduction\" data-toc-modified-id=\"Introduction-1\">Introduction</a></span></li><li><span><a href=\"#Libraries-Used\" data-toc-modified-id=\"Libraries-Used-2\">Libraries Used</a></span></li><li><span><a href=\"#Part-1:-What-makes-KHLH-different?\" data-toc-modified-id=\"Part-1:-What-makes-KHLH-different?-3\">Part 1: What makes KHLH different?</a></span><ul class=\"toc-item\"><li><span><a href=\"#Loading-Amino-Acids-Information-CSV\" data-toc-modified-id=\"Loading-Amino-Acids-Information-CSV-3.1\">Loading Amino Acids Information CSV</a></span></li><li><span><a href=\"#Fasta-Loading\" data-toc-modified-id=\"Fasta-Loading-3.2\">Fasta Loading</a></span><ul class=\"toc-item\"><li><span><a href=\"#First-150-characters-of-RCSB-file\" data-toc-modified-id=\"First-150-characters-of-RCSB-file-3.2.1\">First 150 characters of RCSB file</a></span></li><li><span><a href=\"#Initial-Functions\" data-toc-modified-id=\"Initial-Functions-3.2.2\">Initial Functions</a></span></li><li><span><a href=\"#Load-the-fasta-files-/-multiprocessing\" data-toc-modified-id=\"Load-the-fasta-files-/-multiprocessing-3.2.3\">Load the fasta files / multiprocessing</a></span></li></ul></li><li><span><a href=\"#Example-kmer-protein-analysis\" data-toc-modified-id=\"Example-kmer-protein-analysis-3.3\">Example kmer protein analysis</a></span></li><li><span><a href=\"#What-is-the-function-of-the-HGM-kmer?\" data-toc-modified-id=\"What-is-the-function-of-the-HGM-kmer?-3.4\">What is the function of the HGM kmer?</a></span><ul class=\"toc-item\"><li><span><a href=\"#ChimeraX-settings\" data-toc-modified-id=\"ChimeraX-settings-3.4.1\">ChimeraX settings</a></span></li><li><span><a href=\"#Build-frames-for-later-analysis\" data-toc-modified-id=\"Build-frames-for-later-analysis-3.4.2\">Build frames for later analysis</a></span></li><li><span><a href=\"#View-proteins-as-dataframe\" data-toc-modified-id=\"View-proteins-as-dataframe-3.4.3\">View proteins as dataframe</a></span></li><li><span><a href=\"#Distributions\" data-toc-modified-id=\"Distributions-3.4.4\">Distributions</a></span></li></ul></li><li><span><a href=\"#Initial-Considerations\" data-toc-modified-id=\"Initial-Considerations-3.5\">Initial Considerations</a></span><ul class=\"toc-item\"><li><span><a href=\"#2N1C:A\" data-toc-modified-id=\"2N1C:A-3.5.1\">2N1C:A</a></span></li><li><span><a href=\"#2N30:A\" data-toc-modified-id=\"2N30:A-3.5.2\">2N30:A</a></span></li><li><span><a href=\"#Removal-of-2N30-and-2N1C\" data-toc-modified-id=\"Removal-of-2N30-and-2N1C-3.5.3\">Removal of 2N30 and 2N1C</a></span></li></ul></li><li><span><a href=\"#Protein-Frames\" data-toc-modified-id=\"Protein-Frames-3.6\">Protein Frames</a></span><ul class=\"toc-item\"><li><span><a href=\"#Protein-chains-shared-by-all-proteins\" data-toc-modified-id=\"Protein-chains-shared-by-all-proteins-3.6.1\">Protein chains shared by all proteins</a></span></li><li><span><a href=\"#Find-amino-sequences-that-occur-in-at-least-55%-of-hemocyanin-proteins\" data-toc-modified-id=\"Find-amino-sequences-that-occur-in-at-least-55%-of-hemocyanin-proteins-3.6.2\">Find amino sequences that occur in at least 55% of hemocyanin proteins</a></span></li><li><span><a href=\"#Create-a-adjacency-matrix-for-hemocyanin-proteins\" data-toc-modified-id=\"Create-a-adjacency-matrix-for-hemocyanin-proteins-3.6.3\">Create a adjacency matrix for hemocyanin proteins</a></span></li><li><span><a href=\"#Inclusion-Graph\" data-toc-modified-id=\"Inclusion-Graph-3.6.4\">Inclusion Graph</a></span></li><li><span><a href=\"#Initial-Thoughts\" data-toc-modified-id=\"Initial-Thoughts-3.6.5\">Initial Thoughts</a></span></li></ul></li><li><span><a href=\"#Protein-Dictionary-Class\" data-toc-modified-id=\"Protein-Dictionary-Class-3.7\">Protein Dictionary Class</a></span><ul class=\"toc-item\"><li><span><a href=\"#Comparing-Keyhole-Limpet-and-Japanese-Flying-Squid\" data-toc-modified-id=\"Comparing-Keyhole-Limpet-and-Japanese-Flying-Squid-3.7.1\">Comparing Keyhole Limpet and Japanese Flying Squid</a></span></li><li><span><a href=\"#Shared-Elements\" data-toc-modified-id=\"Shared-Elements-3.7.2\">Shared Elements</a></span></li></ul></li></ul></li><li><span><a href=\"#6R83\" data-toc-modified-id=\"6R83-4\">6R83</a></span><ul class=\"toc-item\"><li><span><a href=\"#General-Information\" data-toc-modified-id=\"General-Information-4.1\">General Information</a></span><ul class=\"toc-item\"><li><span><a href=\"#Protein-Name\" data-toc-modified-id=\"Protein-Name-4.1.1\">Protein Name</a></span></li><li><span><a href=\"#Species-Name\" data-toc-modified-id=\"Species-Name-4.1.2\">Species Name</a></span></li></ul></li></ul></li><li><span><a href=\"#Animals-listed-on-NIH-Genome-List\" data-toc-modified-id=\"Animals-listed-on-NIH-Genome-List-5\">Animals listed on NIH Genome List</a></span><ul class=\"toc-item\"><li><ul class=\"toc-item\"><li><span><a href=\"#Taxonomy\" data-toc-modified-id=\"Taxonomy-5.0.1\">Taxonomy</a></span></li><li><span><a href=\"#Habitat-and-Biology\" data-toc-modified-id=\"Habitat-and-Biology-5.0.2\">Habitat and Biology</a></span></li></ul></li></ul></li><li><span><a href=\"#Shotgun-alignment\" data-toc-modified-id=\"Shotgun-alignment-6\">Shotgun alignment</a></span><ul class=\"toc-item\"><li><span><a href=\"#Pacific-Flying-Squid\" data-toc-modified-id=\"Pacific-Flying-Squid-6.1\">Pacific Flying Squid</a></span></li><li><span><a href=\"#Megathura-crenulata-mRNA-for-keyhole-limpet-hemocyanin2-(klh2-gene)-Search-Parameters\" data-toc-modified-id=\"Megathura-crenulata-mRNA-for-keyhole-limpet-hemocyanin2-(klh2-gene)-Search-Parameters-6.2\">Megathura crenulata mRNA for keyhole limpet hemocyanin2 (klh2 gene) Search Parameters</a></span></li><li><span><a href=\"#Biopython-import\" data-toc-modified-id=\"Biopython-import-6.3\">Biopython import</a></span><ul class=\"toc-item\"><li><span><a href=\"#PYMOL-(still-experimental)\" data-toc-modified-id=\"PYMOL-(still-experimental)-6.3.1\">PYMOL (still experimental)</a></span></li><li><span><a href=\"#NV-trouble,-not-sure-what-is-wrong\" data-toc-modified-id=\"NV-trouble,-not-sure-what-is-wrong-6.3.2\">NV trouble, not sure what is wrong</a></span></li></ul></li><li><span><a href=\"#Align-fasta-files-for-Hemocyanin-results\" data-toc-modified-id=\"Align-fasta-files-for-Hemocyanin-results-6.4\">Align fasta files for Hemocyanin results</a></span></li></ul></li><li><span><a href=\"#Sources\" data-toc-modified-id=\"Sources-7\">Sources</a></span></li></ul></div>"
   ]
  },
  {
   "cell_type": "markdown",
   "metadata": {},
   "source": [
    "## Introduction"
   ]
  },
  {
   "cell_type": "markdown",
   "metadata": {},
   "source": [
    "Hemocyanin is the main oxygen carrying protein commonly used in the blood of arthropods, mollusks, and some other invertebrates. It is of interest in biomedical research because of its use as an adjuvant in vaccine development [[1]](https://www.ncbi.nlm.nih.gov/pmc/articles/PMC4243888/). Unfortunately, current production of hemocyanin is extremely expensive, with the harvesting process requiring blood from a sea snail called the Keyhole Limpet.\n",
    "\n",
    "We hope to focus our study of Key Hole Limpet hemocyanin (KHLH) around three main lines. First, we hope to understand some of the differences in KHLH versus the hemocyanin in other invertebrates. In this step we will not only try to answer \"how is KHLH different?,\" but we also explore useful datascience multiprocessing and visualization tools. Second, we discuss other species with similar hemocyanin and propose some candidate species as possible alternatives to KHLH. Third, we hope to understand why KHLH elicits such a useful immunological response in humans."
   ]
  },
  {
   "cell_type": "markdown",
   "metadata": {},
   "source": [
    "## Libraries Used"
   ]
  },
  {
   "cell_type": "code",
   "execution_count": 51,
   "metadata": {},
   "outputs": [],
   "source": [
    "# Basic Libraries\n",
    "from random import choices, randint\n",
    "from collections import Counter, defaultdict\n",
    "import re\n",
    "from glob import glob\n",
    "\n",
    "# Multiprocessing code\n",
    "from concurrent.futures import ProcessPoolExecutor as poolx\n",
    "\n",
    "# Data Science\n",
    "import pandas as pd\n",
    "import numpy as np\n",
    "\n",
    "# Calculate distance between strings\n",
    "from Levenshtein import distance as l_dist\n",
    "\n",
    "# Visulization Libraries\n",
    "import matplotlib.pyplot as plt\n",
    "import matplotlib.image as mpimg\n",
    "import seaborn as sns\n",
    "from IPython.display import Video, HTML\n",
    "\n",
    "# Biopython libraries\n",
    "from Bio import AlignIO, SeqIO, pairwise2, Phylo, Entrez\n",
    "from Bio.Seq import Seq\n",
    "from Bio.pairwise2 import format_alignment\n",
    "from Bio.PDB import *\n",
    "from Bio.Blast import NCBIWWW, NCBIXML\n",
    "from Bio.Align.Applications import ClustalwCommandline\n",
    "\n",
    "# Web Crawlers \n",
    "import requests\n",
    "import subprocess\n",
    "Entrez.email = \"hofferd78@gmail.com\""
   ]
  },
  {
   "cell_type": "markdown",
   "metadata": {},
   "source": [
    "## Part 1: What makes KHLH different?"
   ]
  },
  {
   "cell_type": "markdown",
   "metadata": {},
   "source": [
    "### Loading Amino Acids Information CSV"
   ]
  },
  {
   "cell_type": "markdown",
   "metadata": {},
   "source": [
    "This is a little CSV with many amino acid properties, useful in some of the initial analysis. First this information will be loaded. For the first section of this notebook, we will only be using the letters."
   ]
  },
  {
   "cell_type": "code",
   "execution_count": 2,
   "metadata": {},
   "outputs": [],
   "source": [
    "amino_acids = pd.read_csv('AminoAcids.csv', index_col=0, squeeze=True).T\n",
    "# Since this is a CSV we need to evaluate the codon string\n",
    "for amino in amino_acids:\n",
    "    amino_acids[amino][\"codons\"] = eval(amino_acids[amino][\"codons\"])"
   ]
  },
  {
   "cell_type": "code",
   "execution_count": 3,
   "metadata": {},
   "outputs": [
    {
     "data": {
      "text/html": [
       "<div>\n",
       "<style scoped>\n",
       "    .dataframe tbody tr th:only-of-type {\n",
       "        vertical-align: middle;\n",
       "    }\n",
       "\n",
       "    .dataframe tbody tr th {\n",
       "        vertical-align: top;\n",
       "    }\n",
       "\n",
       "    .dataframe thead th {\n",
       "        text-align: right;\n",
       "    }\n",
       "</style>\n",
       "<table border=\"1\" class=\"dataframe\">\n",
       "  <thead>\n",
       "    <tr style=\"text-align: right;\">\n",
       "      <th></th>\n",
       "      <th>amino_acid</th>\n",
       "      <th>code</th>\n",
       "      <th>composition</th>\n",
       "      <th>smiles</th>\n",
       "      <th>codons</th>\n",
       "      <th>isoelectric</th>\n",
       "      <th>carb_pKa</th>\n",
       "      <th>amino_pKa</th>\n",
       "      <th>side_pKa</th>\n",
       "      <th>polarity</th>\n",
       "      <th>mono_mass</th>\n",
       "      <th>avg_mass</th>\n",
       "      <th>cid_number</th>\n",
       "      <th>properties</th>\n",
       "    </tr>\n",
       "    <tr>\n",
       "      <th>letter</th>\n",
       "      <th></th>\n",
       "      <th></th>\n",
       "      <th></th>\n",
       "      <th></th>\n",
       "      <th></th>\n",
       "      <th></th>\n",
       "      <th></th>\n",
       "      <th></th>\n",
       "      <th></th>\n",
       "      <th></th>\n",
       "      <th></th>\n",
       "      <th></th>\n",
       "      <th></th>\n",
       "      <th></th>\n",
       "    </tr>\n",
       "  </thead>\n",
       "  <tbody>\n",
       "    <tr>\n",
       "      <th>A</th>\n",
       "      <td>alanine</td>\n",
       "      <td>ala</td>\n",
       "      <td>C3H5NO</td>\n",
       "      <td>CC(C(=O)O)N</td>\n",
       "      <td>{GCU, GCG, GCA, GCC}</td>\n",
       "      <td>6.01</td>\n",
       "      <td>2.35</td>\n",
       "      <td>9.87</td>\n",
       "      <td>-</td>\n",
       "      <td>non</td>\n",
       "      <td>71.03711381</td>\n",
       "      <td>71.0779</td>\n",
       "      <td>CID5950</td>\n",
       "      <td>{\"aliphatic\"}</td>\n",
       "    </tr>\n",
       "    <tr>\n",
       "      <th>R</th>\n",
       "      <td>arginine</td>\n",
       "      <td>arg</td>\n",
       "      <td>C6H12N4O</td>\n",
       "      <td>NC(CCCN=C(N)N)C(O)=O</td>\n",
       "      <td>{CGU, CGA, CGC, AGG, CGG, AGA}</td>\n",
       "      <td>10.76</td>\n",
       "      <td>1.8</td>\n",
       "      <td>8.99</td>\n",
       "      <td>12.48</td>\n",
       "      <td>basic</td>\n",
       "      <td>156.1011111</td>\n",
       "      <td>156.18568</td>\n",
       "      <td>CID6322</td>\n",
       "      <td>{\"hydrophilic\",\"basic\"}</td>\n",
       "    </tr>\n",
       "    <tr>\n",
       "      <th>N</th>\n",
       "      <td>asparagine</td>\n",
       "      <td>asn</td>\n",
       "      <td>C4H6N2O2</td>\n",
       "      <td>C(C(C(=O)O)N)C(=O)N</td>\n",
       "      <td>{AAU, AAC}</td>\n",
       "      <td>5.41</td>\n",
       "      <td>2.14</td>\n",
       "      <td>8.72</td>\n",
       "      <td>-</td>\n",
       "      <td>polar</td>\n",
       "      <td>114.0429275</td>\n",
       "      <td>114.10264</td>\n",
       "      <td>CID236</td>\n",
       "      <td>{\"non-charged\",\"amidic\"}</td>\n",
       "    </tr>\n",
       "    <tr>\n",
       "      <th>D</th>\n",
       "      <td>aspartic acid</td>\n",
       "      <td>asp</td>\n",
       "      <td>C4H5NO3</td>\n",
       "      <td>C(C(C(=O)O)N)C(=O)O</td>\n",
       "      <td>{GAC, GAU}</td>\n",
       "      <td>2.85</td>\n",
       "      <td>1.99</td>\n",
       "      <td>9.9</td>\n",
       "      <td>3.9</td>\n",
       "      <td>acidic</td>\n",
       "      <td>115.0269431</td>\n",
       "      <td>115.0874</td>\n",
       "      <td>CID5960</td>\n",
       "      <td>{\"hydrophilic\",\"acidic\"}</td>\n",
       "    </tr>\n",
       "    <tr>\n",
       "      <th>C</th>\n",
       "      <td>cysteine</td>\n",
       "      <td>cys</td>\n",
       "      <td>C3H5NOS</td>\n",
       "      <td>C(C(C(=O)O)N)S</td>\n",
       "      <td>{UGC, UGU}</td>\n",
       "      <td>5.05</td>\n",
       "      <td>1.92</td>\n",
       "      <td>10.7</td>\n",
       "      <td>8.18</td>\n",
       "      <td>non</td>\n",
       "      <td>103.0091845</td>\n",
       "      <td>103.1429</td>\n",
       "      <td>CID5862</td>\n",
       "      <td>{\"non-charged\",\"sulfur\"}</td>\n",
       "    </tr>\n",
       "  </tbody>\n",
       "</table>\n",
       "</div>"
      ],
      "text/plain": [
       "           amino_acid code composition                smiles  \\\n",
       "letter                                                         \n",
       "A             alanine  ala      C3H5NO           CC(C(=O)O)N   \n",
       "R            arginine  arg    C6H12N4O  NC(CCCN=C(N)N)C(O)=O   \n",
       "N          asparagine  asn    C4H6N2O2   C(C(C(=O)O)N)C(=O)N   \n",
       "D       aspartic acid  asp     C4H5NO3   C(C(C(=O)O)N)C(=O)O   \n",
       "C            cysteine  cys     C3H5NOS        C(C(C(=O)O)N)S   \n",
       "\n",
       "                                codons isoelectric carb_pKa amino_pKa  \\\n",
       "letter                                                                  \n",
       "A                 {GCU, GCG, GCA, GCC}        6.01     2.35      9.87   \n",
       "R       {CGU, CGA, CGC, AGG, CGG, AGA}       10.76      1.8      8.99   \n",
       "N                           {AAU, AAC}        5.41     2.14      8.72   \n",
       "D                           {GAC, GAU}        2.85     1.99       9.9   \n",
       "C                           {UGC, UGU}        5.05     1.92      10.7   \n",
       "\n",
       "       side_pKa polarity    mono_mass   avg_mass cid_number  \\\n",
       "letter                                                        \n",
       "A             -      non  71.03711381    71.0779    CID5950   \n",
       "R         12.48    basic  156.1011111  156.18568    CID6322   \n",
       "N             -    polar  114.0429275  114.10264     CID236   \n",
       "D           3.9   acidic  115.0269431   115.0874    CID5960   \n",
       "C          8.18      non  103.0091845   103.1429    CID5862   \n",
       "\n",
       "                      properties  \n",
       "letter                            \n",
       "A                  {\"aliphatic\"}  \n",
       "R        {\"hydrophilic\",\"basic\"}  \n",
       "N       {\"non-charged\",\"amidic\"}  \n",
       "D       {\"hydrophilic\",\"acidic\"}  \n",
       "C       {\"non-charged\",\"sulfur\"}  "
      ]
     },
     "execution_count": 3,
     "metadata": {},
     "output_type": "execute_result"
    }
   ],
   "source": [
    "amino_acids.T.head()"
   ]
  },
  {
   "cell_type": "code",
   "execution_count": 4,
   "metadata": {},
   "outputs": [
    {
     "data": {
      "text/plain": [
       "'D'"
      ]
     },
     "execution_count": 4,
     "metadata": {},
     "output_type": "execute_result"
    }
   ],
   "source": [
    "amino_letters = sorted(list(amino_acids.T.index))[1:]\n",
    "amino_letters.insert(0, \"-\")\n",
    "amino_letters[3]"
   ]
  },
  {
   "cell_type": "markdown",
   "metadata": {},
   "source": [
    "### Fasta Loading"
   ]
  },
  {
   "cell_type": "markdown",
   "metadata": {},
   "source": [
    "As a starting point to our analysis, we searched https://www.rcsb.org/ for proteins with the description \"macromolecule: hemocyanin.\" Most proteins listed on RCSB have been well resolved. By limiting our initial scope we hoped we could gain strong insights into hemocyanin by avoiding including inapropriate results. After deleting a few of the duplicate entries we came to the following list of proteins and downloaded the corresponding protein FASTA files:<br><br><b>1HC1, 1HCY, 1JS8, 1LLA, 1LNL, 1NOL, 1OXY, 2N1C, 2N30, 3IXV, 3IXW, 3J32, 3L6W, 3QJO, 4BED, 4YD9, 6L8S, 6R83</b>"
   ]
  },
  {
   "cell_type": "code",
   "execution_count": 5,
   "metadata": {},
   "outputs": [],
   "source": [
    "# Store string for later compairison\n",
    "start_string = \"1HC1, 1HCY, 1JS8, 1LLA, 1LNL, 1NOL, 1OXY, 2N1C, 2N30, 3IXV, \"\\\n",
    "               \"3IXW, 3J32, 3L6W, 3QJO, 4BED, 4YD9, 6L8S, 6R83\""
   ]
  },
  {
   "cell_type": "markdown",
   "metadata": {},
   "source": [
    "#### First 150 characters of RCSB file"
   ]
  },
  {
   "cell_type": "code",
   "execution_count": 6,
   "metadata": {},
   "outputs": [
    {
     "name": "stdout",
     "output_type": "stream",
     "text": [
      ">1HC1:A|PDBID|CHAIN|SEQUENCE\n",
      "DALGTGNAQKQQDINHLLDKIYEPTKYPDLKDIAENFNPLGDTSIYNDHGAAVETLMKELNDHRLLEQRHWYSLFNTRQR\n",
      "KEALMLFAVLNQCKEWYCFRSNAAYFRERMNEGEFVYALY"
     ]
    }
   ],
   "source": [
    "%%bash \n",
    "\n",
    "head -c150 rcsb_model.fasta"
   ]
  },
  {
   "cell_type": "markdown",
   "metadata": {},
   "source": [
    "#### Initial Functions"
   ]
  },
  {
   "cell_type": "markdown",
   "metadata": {},
   "source": [
    "Two questions caught our initial attention. First, what are the largest repeating groups of kmers in each protein and how often do these motifs arise? The function that charts this question is <b>kmers</b>. Second, how can we parse these protein information and sequencing into a pandas dataframe. The function that attempts this is <b>parser</b>."
   ]
  },
  {
   "cell_type": "code",
   "execution_count": 7,
   "metadata": {},
   "outputs": [],
   "source": [
    "def kmers(seq, kmer_percent = 1):\n",
    "    \"\"\"Returns kmer dictionary given a string, percent substring, and top %\"\"\"\n",
    "    \n",
    "    # Check to see if kmer and top are valid percents\n",
    "    if not (0 < kmer_percent <= 1):\n",
    "        print(\"precentages must be between 0 and 1\")\n",
    "        return(False)\n",
    "    \n",
    "    # Find floor of % to use as range\n",
    "    floor = int((len(seq) * kmer_percent) // 1)\n",
    "    \n",
    "    # Make list of all substrings bigger than floor\n",
    "    sub_strings = [seq[i: j] for i in range(len(seq)) \n",
    "                             for j in range(i + 1, len(seq) + 1)\n",
    "                             if len(seq[i:j]) <= floor]\n",
    "    \n",
    "    # Create counter dictionary\n",
    "    counter = Counter(sub_strings)\n",
    "    \n",
    "    # We can sort dictionaries in python 3.7+\n",
    "    indexed_counts = {}\n",
    "    indexed_counts[\"complete\"] = dict(sorted(counter.items(), \n",
    "                                             key=lambda x: x[1], reverse=True))\n",
    "\n",
    "    # Index counter dictionary by length\n",
    "    for length in range(1, floor):\n",
    "        indexed_counts[length] = {sub : count for sub, count in counter.items() \n",
    "                                  if len(sub) == length}\n",
    "        \n",
    "        indexed_counts[length] = dict(sorted(indexed_counts[length].items(), \n",
    "                                             key=lambda x: x[1], reverse=True))\n",
    "    \n",
    "    return(indexed_counts)"
   ]
  },
  {
   "cell_type": "code",
   "execution_count": 8,
   "metadata": {},
   "outputs": [],
   "source": [
    "def parser(record):\n",
    "    # Create an empty dictionary to populate\n",
    "    entry, protein = {}, {}\n",
    "    protein[record.id.split(\"|\")[0]] = {}\n",
    "    entry = protein[record.id.split(\"|\")[0]]\n",
    "    \n",
    "    # Set values to explore\n",
    "    entry[\"sequence\"] = record.id.split(\"|\")[0]\n",
    "    entry[\"family\"]  = entry[\"sequence\"].split(\":\")[0]\n",
    "    entry[\"unit\"]    = entry[\"sequence\"].split(\":\")[1]\n",
    "    entry[\"protein\"] = str(record.seq)\n",
    "    entry[\"length\"]  = len(entry[\"protein\"])\n",
    "    \n",
    "    indexed_counts = kmers(entry[\"protein\"], kmer_percent = .05)\n",
    "    \n",
    "    for length in indexed_counts:\n",
    "        entry[length] = indexed_counts[length]\n",
    "        \n",
    "    return protein"
   ]
  },
  {
   "cell_type": "markdown",
   "metadata": {},
   "source": [
    "#### Load the fasta files / multiprocessing"
   ]
  },
  {
   "cell_type": "markdown",
   "metadata": {},
   "source": [
    "Often times, many bioinformatics processes are computationally expensive. By adding multiprocessing into our pipeline we have been able to significantly speed up our analysis."
   ]
  },
  {
   "cell_type": "code",
   "execution_count": 9,
   "metadata": {},
   "outputs": [],
   "source": [
    "# make list of all records\n",
    "records = []\n",
    "for record in SeqIO.parse(\"rcsb_model.fasta\", \"fasta\"):\n",
    "    records.append(record)\n",
    "    \n",
    "with poolx() as executor:\n",
    "    results = executor.map(parser, records)\n",
    "    \n",
    "proteins = {}    \n",
    "for result in results:\n",
    "    proteins.update(result)"
   ]
  },
  {
   "cell_type": "markdown",
   "metadata": {},
   "source": [
    "It might be a little silly to double check that our search list of proteins is\n",
    "contained in our Fasta file, but it is a quick sanity check"
   ]
  },
  {
   "cell_type": "code",
   "execution_count": 10,
   "metadata": {},
   "outputs": [
    {
     "name": "stdout",
     "output_type": "stream",
     "text": [
      "dict_keys(['1HC1:A', '1HC1:B', '1HC1:C', '1HC1:D', '1HC1:E', '1HC1:F', '1HCY:A', '1HCY:B', '1HCY:C', '1HCY:D', '1HCY:E', '1HCY:F', '1JS8:A', '1JS8:B', '1LLA:A', '1LNL:A', '1LNL:B', '1LNL:C', '1NOL:A', '1OXY:A', '2N1C:A', '2N30:A', '3IXV:A', '3IXV:C', '3IXV:D', '3IXV:E', '3IXV:F', '3IXV:G', '3IXV:H', '3IXV:I', '3IXV:J', '3IXV:K', '3IXV:L', '3IXV:M', '3IXW:A', '3IXW:C', '3IXW:D', '3IXW:E', '3IXW:F', '3IXW:G', '3IXW:H', '3IXW:I', '3IXW:J', '3IXW:K', '3IXW:L', '3IXW:M', '3J32:A', '3J32:B', '3L6W:A', '3L6W:B', '3QJO:A', '3QJO:B', '4BED:A', '4BED:B', '4BED:C', '4BED:D', '4YD9:A', '4YD9:B', '4YD9:C', '4YD9:D', '4YD9:E', '4YD9:F', '4YD9:G', '4YD9:H', '4YD9:I', '4YD9:J', '4YD9:K', '4YD9:L', '4YD9:M', '4YD9:N', '4YD9:O', '4YD9:P', '4YD9:Q', '4YD9:R', '4YD9:S', '4YD9:T', '4YD9:U', '4YD9:V', '4YD9:W', '4YD9:X', '4YD9:Y', '4YD9:Z', '4YD9:a', '4YD9:b', '4YD9:c', '4YD9:d', '6L8S:A', '6L8S:B', '6L8S:C', '6R83:10a', '6R83:1a', '6R83:2a', '6R83:3a', '6R83:4a', '6R83:5a', '6R83:6a', '6R83:7a', '6R83:8a', '6R83:9a'])\n"
     ]
    }
   ],
   "source": [
    "print(proteins.keys())"
   ]
  },
  {
   "cell_type": "code",
   "execution_count": 11,
   "metadata": {},
   "outputs": [
    {
     "name": "stdout",
     "output_type": "stream",
     "text": [
      "It is TRUE that our Fasta file contains searched proteins\n"
     ]
    }
   ],
   "source": [
    "# Check to see if our starting 16 proteins have been listed in this fasta file\n",
    "# First make a sorted list of proteins contained in Fasta file, strip off types\n",
    "test_string = sorted(list(set(x.split(\":\")[0] for x in proteins.keys())))\n",
    "\n",
    "# Join list for quick compairison\n",
    "test_string = \", \".join(test_string)\n",
    "\n",
    "test = str(test_string == start_string).upper()\n",
    "\n",
    "print(\"It is {} that our Fasta file contains searched proteins\".format(test))"
   ]
  },
  {
   "cell_type": "markdown",
   "metadata": {},
   "source": [
    "### Example kmer protein analysis "
   ]
  },
  {
   "cell_type": "markdown",
   "metadata": {},
   "source": [
    "We can now use this protein dictionary to list out some of the repeated kmers in each protein quickly. For instance, what are the kmer subunits in protein <b>4YD9:C</b> that are <b>3</b> amino acids long and repeat <b>two or more times</b>?"
   ]
  },
  {
   "cell_type": "code",
   "execution_count": 12,
   "metadata": {},
   "outputs": [
    {
     "data": {
      "text/plain": [
       "{'HGM': 3}"
      ]
     },
     "execution_count": 12,
     "metadata": {},
     "output_type": "execute_result"
    }
   ],
   "source": [
    "p = \"4YD9:C\"\n",
    "size = 3\n",
    "repeats = 3\n",
    "\n",
    "{frame:amount for frame, amount in proteins[p][size].items() if amount >= repeats}"
   ]
  },
  {
   "cell_type": "code",
   "execution_count": 24,
   "metadata": {},
   "outputs": [
    {
     "data": {
      "text/plain": [
       "'SMVRKNVNSLTPSEIENLRNALAAVQADKTDAGYQKIASFHGMPLSCQYPDGTAFACCQHGMVTFPHWHRLYMKQMEDALKAKGAKIGIPYWDWTTAFHSLPILVTEPKNNPFHHGYIDVADTKTTRDPRPQLFDDPEQGDQSFFYRQIAFALEQRDFCDFEIQFEMGHNAIHSWVGGPSPYGMSTLHYTSYDPLFYVHHSNTDRIWAIWQALQKYRGLPYNSANCEINKLKKPMMPFSSEDNPNEVTKAHSTGYKSFDYQQLNYEYDNLNFHGMTIPQLEVHLKKIQEKDRVFAGFLLRAIGQSADVNFDVCRKDGECTFGGTFCVLGGDYEMPWAFDRLFLYDISKSLVHLRLDAHDDFDIKVTIMGIDGKSLPPNLLPSPTILFKPGTGKI'"
      ]
     },
     "execution_count": 24,
     "metadata": {},
     "output_type": "execute_result"
    }
   ],
   "source": [
    "proteins[\"4YD9:C\"][\"protein\"]"
   ]
  },
  {
   "cell_type": "markdown",
   "metadata": {},
   "source": [
    "Where does <b>HGM</b> occur in <b>4YD9:C</b>?"
   ]
  },
  {
   "cell_type": "code",
   "execution_count": 45,
   "metadata": {},
   "outputs": [
    {
     "name": "stdout",
     "output_type": "stream",
     "text": [
      "[40, 59, 272]\n"
     ]
    }
   ],
   "source": [
    "_4YD9C = proteins[\"4YD9:C\"][\"protein\"]\n",
    "HGM = \"HGM\"\n",
    "\n",
    "match_positions = [match.start() for match in re.finditer(HGM, _4YD9C)]\n",
    "\n",
    "print(matches_positions)"
   ]
  },
  {
   "cell_type": "code",
   "execution_count": 47,
   "metadata": {},
   "outputs": [
    {
     "data": {
      "text/plain": [
       "'HGM'"
      ]
     },
     "execution_count": 47,
     "metadata": {},
     "output_type": "execute_result"
    }
   ],
   "source": [
    "_4YD9C[40:43]"
   ]
  },
  {
   "cell_type": "markdown",
   "metadata": {},
   "source": [
    "### What is the function of the HGM kmer?"
   ]
  },
  {
   "cell_type": "markdown",
   "metadata": {},
   "source": [
    "#### ChimeraX settings "
   ]
  },
  {
   "cell_type": "markdown",
   "metadata": {},
   "source": [
    "color byatom; lighting soft; <br>\n",
    "movie record; zoom 1.75 120; <br>\n",
    "turn y 1 120; wait 120; <br>\n",
    "show cartoons; hide atoms; show #1:3400-3410 atoms; style #1:3400-3410 sphere; <br>\n",
    "size #1:3400-3410 atomRadius 2.5; color green cartoons; <br>\n",
    "turn y 1 120; wait 120; <br>\n",
    "color white cartoons; color #1/C green cartoons; <br>\n",
    "turn y 1 100; wait 100; <br>\n",
    "transparency 85 cartoons; transparency #1/C 0 cartoons; <br>\n",
    "turn y 1 120; wait 120; <br>\n",
    "zoom 1.45 120; turn y 1 120; wait 120; <br> \n",
    "transparency #1/C 85 cartoons; show #1/C:2959-2964 atoms;  # The location here is relative to protein<br> \n",
    "color byatom; turn y 1 120; wait 120; <br>\n",
    "movie encode ~/Desktop/test.mp4 <br>"
   ]
  },
  {
   "cell_type": "code",
   "execution_count": 54,
   "metadata": {},
   "outputs": [
    {
     "data": {
      "text/html": [
       "\n",
       "<video width=\"640\" height=\"480\" controls>\n",
       "  <source src=\"animation.mp4\" type=\"video/mp4\">\n",
       "</video>\n"
      ],
      "text/plain": [
       "<IPython.core.display.HTML object>"
      ]
     },
     "execution_count": 54,
     "metadata": {},
     "output_type": "execute_result"
    }
   ],
   "source": [
    "HTML(\"\"\"\n",
    "<video width=\"640\" height=\"480\" controls>\n",
    "  <source src=\"animation.mp4\" type=\"video/mp4\">\n",
    "</video>\n",
    "\"\"\")\n"
   ]
  },
  {
   "cell_type": "code",
   "execution_count": 46,
   "metadata": {},
   "outputs": [
    {
     "data": {
      "text/plain": [
       "'DAGYQKIASFHGMPLSCQYP'"
      ]
     },
     "execution_count": 46,
     "metadata": {},
     "output_type": "execute_result"
    }
   ],
   "source": [
    "_4YD9C[30:50]"
   ]
  },
  {
   "cell_type": "markdown",
   "metadata": {},
   "source": [
    "Can we find any insights into the structure looking at these positions?"
   ]
  },
  {
   "cell_type": "code",
   "execution_count": 27,
   "metadata": {},
   "outputs": [
    {
     "name": "stdout",
     "output_type": "stream",
     "text": [
      "SMVRKNVNSLTPSEIENLRNALAAVQADKTDAGYQKIASFHGMPLSCQYPDGTAFACCQHGMVTFPHWHRLYMKQMEDALKAKGAKIGIPYWDWTTAFHSLPILVTEPKNNPFHHGYIDVADTKTTRDPRPQLFDDPEQGDQSFFYRQIAFALEQRDFCDFEIQFEMGHNAIHSWVGGPSPYGMSTLHYTSYDPLFYVHHSNTDRIWAIWQALQKYRGLPYNSANCEINKLKKPMMPFSSEDNPNEVTKAHSTGYKSFDYQQLNYEYDNLNFHGMTIPQLEVHLKKIQEKDRVFAGFLLRAIGQSADVNFDVCRKDGECTFGGTFCVLGGDYEMPWAFDRLFLYDISKSLVHLRLDAHDDFDIKVTIMGIDGKSLPPNLLPSPTILFKPGTGKI\n"
     ]
    }
   ],
   "source": [
    "# This is where our protein is listed in our dictionary\n",
    "_4YD9C = proteins[\"4YD9:C\"][\"protein\"]\n",
    "print(proteins[\"4YD9:C\"][\"protein\"])"
   ]
  },
  {
   "cell_type": "code",
   "execution_count": 29,
   "metadata": {},
   "outputs": [
    {
     "ename": "AttributeError",
     "evalue": "'str' object has no attribute 'findall'",
     "output_type": "error",
     "traceback": [
      "\u001b[0;31m---------------------------------------------------------------------------\u001b[0m",
      "\u001b[0;31mAttributeError\u001b[0m                            Traceback (most recent call last)",
      "\u001b[0;32m<ipython-input-29-cb2be0f82195>\u001b[0m in \u001b[0;36m<module>\u001b[0;34m\u001b[0m\n\u001b[0;32m----> 1\u001b[0;31m \u001b[0m_4YD9C\u001b[0m\u001b[0;34m.\u001b[0m\u001b[0mfindall\u001b[0m\u001b[0;34m(\u001b[0m\u001b[0;34m\"HGM\"\u001b[0m\u001b[0;34m)\u001b[0m\u001b[0;34m\u001b[0m\u001b[0;34m\u001b[0m\u001b[0m\n\u001b[0m",
      "\u001b[0;31mAttributeError\u001b[0m: 'str' object has no attribute 'findall'"
     ]
    }
   ],
   "source": [
    "_4YD9C.findall(\"HGM\")"
   ]
  },
  {
   "cell_type": "code",
   "execution_count": 21,
   "metadata": {},
   "outputs": [
    {
     "name": "stdout",
     "output_type": "stream",
     "text": [
      "[]\n"
     ]
    }
   ],
   "source": [
    "matches = re.finditer(proteins[\"4YD9:C\"][\"protein\"], \"HGM\")\n",
    "positions = [match.start() for match in matches]\n",
    "print(positions)"
   ]
  },
  {
   "cell_type": "markdown",
   "metadata": {},
   "source": [
    "Next, we can now ask if the amino kmer <b>HGM</b> exists in our test set of proteins"
   ]
  },
  {
   "cell_type": "code",
   "execution_count": null,
   "metadata": {},
   "outputs": [],
   "source": [
    "for protein in proteins:\n",
    "    print(protein)"
   ]
  },
  {
   "cell_type": "markdown",
   "metadata": {},
   "source": [
    "#### Build frames for later analysis"
   ]
  },
  {
   "cell_type": "code",
   "execution_count": null,
   "metadata": {},
   "outputs": [],
   "source": [
    "for protein in proteins:\n",
    "    entry = proteins[protein]\n",
    "    for i in range(1,20):\n",
    "        for j in range(i, entry[\"length\"] - i):\n",
    "            entry[\"{}_{}\".format(i,j - i)] = entry[\"protein\"][j - i:j]"
   ]
  },
  {
   "cell_type": "code",
   "execution_count": null,
   "metadata": {},
   "outputs": [],
   "source": [
    "proteins[\"3IXV:D\"][\"4_344\"]"
   ]
  },
  {
   "cell_type": "markdown",
   "metadata": {},
   "source": [
    "#### View proteins as dataframe"
   ]
  },
  {
   "cell_type": "code",
   "execution_count": null,
   "metadata": {},
   "outputs": [],
   "source": [
    "proteins = pd.DataFrame.from_dict(proteins).T\n",
    "proteins = proteins.fillna(\"-\")\n",
    "proteins[[\"sequence\", \"family\", \"protein\", \"5_0\"]].head()"
   ]
  },
  {
   "cell_type": "markdown",
   "metadata": {},
   "source": [
    "#### Distributions "
   ]
  },
  {
   "cell_type": "code",
   "execution_count": null,
   "metadata": {},
   "outputs": [],
   "source": [
    "plt.figure(figsize=(5,5), dpi =300);\n",
    "plt.hist(proteins[\"length\"], bins = 10);\n",
    "plt.title(\"Distribution of Protein Lengths\");\n",
    "plt.show()"
   ]
  },
  {
   "cell_type": "code",
   "execution_count": null,
   "metadata": {},
   "outputs": [],
   "source": [
    "proteins[proteins[\"length\"] < 150][\"length\"]"
   ]
  },
  {
   "cell_type": "markdown",
   "metadata": {},
   "source": [
    "### Initial Considerations"
   ]
  },
  {
   "cell_type": "markdown",
   "metadata": {},
   "source": [
    "2N1C and 2N30 are both of very small proteins, which are probably the derivatives of other structures. Before removing them from consideration, however, it is probably best to review each."
   ]
  },
  {
   "cell_type": "markdown",
   "metadata": {},
   "source": [
    "#### 2N1C:A"
   ]
  },
  {
   "cell_type": "code",
   "execution_count": null,
   "metadata": {},
   "outputs": [],
   "source": [
    "image = mpimg.imread(\"2n1c_models.jpeg\")\n",
    "plt.figure(figsize=(5,5), dpi =300);\n",
    "plt.imshow(image);\n",
    "plt.show();"
   ]
  },
  {
   "cell_type": "markdown",
   "metadata": {},
   "source": [
    "#### 2N30:A"
   ]
  },
  {
   "cell_type": "code",
   "execution_count": null,
   "metadata": {},
   "outputs": [],
   "source": [
    "image = mpimg.imread(\"2n30_models.jpeg\")\n",
    "plt.figure(figsize=(5,5), dpi =300);\n",
    "plt.imshow(image);\n",
    "plt.show();"
   ]
  },
  {
   "cell_type": "markdown",
   "metadata": {},
   "source": [
    "Both of these proteins are derived from crustacean hemocyanins as an anitfungal agents [1]. Thus it seems reasonable to omit them from the analysis\n",
    "\n",
    "[1] Petit, Vanessa W., et. al. \"A Hemocyanin-derived Antimicrobial Peptide from the Penaeid Shrimp Adopts an Alpha-helical Structure That Specifically Permeabilizes Fungal Membranes.\" Biochimica Et Biophysica Acta (BBA) - General Subjects 1860.3 (2016): 557-68. Print."
   ]
  },
  {
   "cell_type": "markdown",
   "metadata": {},
   "source": [
    "#### Removal of 2N30 and 2N1C"
   ]
  },
  {
   "cell_type": "code",
   "execution_count": null,
   "metadata": {},
   "outputs": [],
   "source": [
    "proteins.drop([\"2N1C:A\", \"2N30:A\"], inplace = True)"
   ]
  },
  {
   "cell_type": "code",
   "execution_count": null,
   "metadata": {},
   "outputs": [],
   "source": [
    "plt.figure(figsize=(5,5), dpi =300);\n",
    "plt.hist(proteins[\"length\"], bins = 10);\n",
    "plt.title(\"Distribution of Protein Lengths\");\n",
    "plt.show()"
   ]
  },
  {
   "cell_type": "markdown",
   "metadata": {},
   "source": [
    "### Protein Frames"
   ]
  },
  {
   "cell_type": "markdown",
   "metadata": {},
   "source": [
    "#### Protein chains shared by all proteins"
   ]
  },
  {
   "cell_type": "code",
   "execution_count": null,
   "metadata": {},
   "outputs": [],
   "source": [
    "protein_list  = list(proteins.index.values)\n",
    "coexist, amounts = {}, {}\n",
    "for protein in protein_list:    \n",
    "    times = {seq:1 for seq, times in proteins[\"complete\"][protein].items()}\n",
    "    count = {seq:times for seq, times in proteins[\"complete\"][protein].items()}\n",
    "    for seq in count:\n",
    "        if seq in coexist:\n",
    "            coexist[seq] += 1\n",
    "            amounts[seq] += count[seq]\n",
    "        else:\n",
    "            coexist[seq], amounts[seq] = {}, {}\n",
    "            coexist[seq] = 1\n",
    "            amounts[seq] = count[seq]\n",
    "            \n",
    "coexist = dict(sorted(coexist.items(), key=lambda x: x[1], reverse=True))\n",
    "amounts = dict(sorted(amounts.items(), key=lambda x: x[1], reverse=True))"
   ]
  },
  {
   "cell_type": "code",
   "execution_count": null,
   "metadata": {},
   "outputs": [],
   "source": [
    "proteins[\"complete\"]"
   ]
  },
  {
   "cell_type": "markdown",
   "metadata": {},
   "source": [
    "#### Find amino sequences that occur in at least 55% of hemocyanin proteins"
   ]
  },
  {
   "cell_type": "code",
   "execution_count": null,
   "metadata": {},
   "outputs": [],
   "source": [
    "top_55 = int((len(protein_list) * .55)//1)\n",
    "most_common = {seq:{\"times\":times,\"amount\": amounts[seq]} for seq, times in coexist.items() \n",
    "                                                          if times > top_55}\n",
    "len(most_common)"
   ]
  },
  {
   "cell_type": "markdown",
   "metadata": {},
   "source": [
    "#### Create a adjacency matrix for hemocyanin proteins"
   ]
  },
  {
   "cell_type": "code",
   "execution_count": null,
   "metadata": {},
   "outputs": [],
   "source": [
    "for protein in proteins[\"complete\"].index:\n",
    "    for amino in most_common:\n",
    "        if amino in proteins[\"complete\"][protein]:\n",
    "            most_common[amino][protein] = 1\n",
    "        else:\n",
    "            most_common[amino][protein] = 0\n",
    "\n",
    "adj = pd.DataFrame.from_dict(most_common).T\n",
    "adj = adj[adj.columns[2:]]            "
   ]
  },
  {
   "cell_type": "code",
   "execution_count": null,
   "metadata": {},
   "outputs": [],
   "source": [
    "adj"
   ]
  },
  {
   "cell_type": "markdown",
   "metadata": {},
   "source": [
    "#### Inclusion Graph"
   ]
  },
  {
   "cell_type": "code",
   "execution_count": null,
   "metadata": {},
   "outputs": [],
   "source": [
    "plt.figure(figsize=(5,5), dpi =300);\n",
    "sns.heatmap(adj,yticklabels=False,cbar=False,cmap='viridis');\n",
    "plt.show();"
   ]
  },
  {
   "cell_type": "code",
   "execution_count": null,
   "metadata": {},
   "outputs": [],
   "source": [
    "proteins[\"length\"].describe()"
   ]
  },
  {
   "cell_type": "code",
   "execution_count": null,
   "metadata": {},
   "outputs": [],
   "source": [
    "proteins[\"length\"][\"6R83:5a\"]"
   ]
  },
  {
   "cell_type": "code",
   "execution_count": null,
   "metadata": {},
   "outputs": [],
   "source": [
    "print(\"Total number of Amino Groups in top 55%:\\t\\t {}\".format(len(most_common)))\n",
    "print(\"Total number of those groups represented in 6R83:\\t {}\".format(adj[\"6R83:5a\"].sum()))"
   ]
  },
  {
   "cell_type": "markdown",
   "metadata": {},
   "source": [
    "#### Initial Thoughts"
   ]
  },
  {
   "cell_type": "markdown",
   "metadata": {},
   "source": [
    "From the above information above, 6R83 contains all of the top amino subunits. This is logical, since this protein is largest in the list. "
   ]
  },
  {
   "cell_type": "markdown",
   "metadata": {},
   "source": [
    "### Protein Dictionary Class"
   ]
  },
  {
   "cell_type": "code",
   "execution_count": null,
   "metadata": {},
   "outputs": [],
   "source": [
    "proteins_dict = proteins.T.to_dict()"
   ]
  },
  {
   "cell_type": "code",
   "execution_count": null,
   "metadata": {},
   "outputs": [],
   "source": [
    "proteins_dict.keys()"
   ]
  },
  {
   "cell_type": "code",
   "execution_count": null,
   "metadata": {},
   "outputs": [],
   "source": [
    "## Initial formation of class, not completed for all general cases\n",
    "\n",
    "class Protein_Describer:\n",
    "    def __init__(self, proteins_dict):\n",
    "        \"\"\"Creates useful information compiled from protein dictionary\"\"\"\n",
    "    \n",
    "        self.proteins_dict = proteins_dict\n",
    "        self.proteins = list(proteins_dict.keys())\n",
    "        self.compare = self.compare_all()\n",
    "    \n",
    "    def delta(self, protein_1, protein_2, place):\n",
    "        \"A simple Delta function for proteins\"\n",
    "        if protein_1[place] == protein_2[place]:\n",
    "            return protein_1[place]\n",
    "        else:\n",
    "            return \"-\" \n",
    "    \n",
    "    def proteins_align(self, keys):\n",
    "        \"\"\"Aligns to proteins with BioPython, keys = (protein_a, protein_b)\"\"\"\n",
    "        protein_a = keys[0]\n",
    "        protein_b = keys[1]\n",
    "        \n",
    "        # Set variables\n",
    "        first = Seq(self.proteins_dict[protein_a][\"protein\"])\n",
    "        second = Seq(self.proteins_dict[protein_b][\"protein\"])\n",
    "        \n",
    "        # Align proteins\n",
    "        align = pairwise2.align.globalxx(first, second, one_alignment_only=True)\n",
    "        aligned_a = align[0].seqA\n",
    "        aligned_b = align[0].seqB\n",
    "        \n",
    "        # Calculate shared string\n",
    "        shared = \"\".join([self.delta(aligned_a, aligned_b, i) for i in range(len(aligned_a))])\n",
    "        \n",
    "        compare = {}\n",
    "        # Returns dictionary of shared terms\n",
    "        compare[(protein_a, protein_b)] = {protein_a: aligned_a, \n",
    "                                           protein_b: aligned_b,\n",
    "                                           \"shared\":  shared,\n",
    "                                           \"shared_count\": Counter([x for x in shared.split(\"-\") if x != \"\"]),\n",
    "                                           \"percent_simalarity\": align[0].score / len(align[0].seqA),\n",
    "                                           \"score\": align[0].score, \n",
    "                                           \"levenshtein_distance\": l_dist(str(first), str(second))}\n",
    "    \n",
    "    def compare_all(self):\n",
    "        \"\"\"\n",
    "        Applies protein alignment to all proteins, uses multi-processing\n",
    "        \"\"\"\n",
    "        length = len(self.proteins)\n",
    "        compare = {}\n",
    "        keys = []\n",
    "        \n",
    "        # Grab list of keys from all proteins in class\n",
    "        for i in range(0, length - 1):\n",
    "            for j in range(i + 1, ):\n",
    "                keys.append((self.proteins[i],self.proteins[j]))\n",
    "        \n",
    "        # Multitask\n",
    "        with poolx() as executor:\n",
    "            results = executor.map(self.proteins_align, keys)\n",
    "        \n",
    "        # Add results into dictionary\n",
    "        for result in results:\n",
    "            compare.update(result)\n",
    "        \n",
    "        return compare\n",
    "        \n",
    "    \n",
    "    def distance_matrix(self):\n",
    "        size = len(self.proteins)\n",
    "          \n",
    "        align_matrix = [proteins_align(x,y) for x in range(size) for y in self.proteins]\n",
    "        return align_matrix "
   ]
  },
  {
   "cell_type": "markdown",
   "metadata": {},
   "source": [
    "#### Comparing Keyhole Limpet and Japanese Flying Squid"
   ]
  },
  {
   "cell_type": "code",
   "execution_count": null,
   "metadata": {},
   "outputs": [],
   "source": [
    "def Test:\n",
    "    def p_times(self, times):\n",
    "        "
   ]
  },
  {
   "cell_type": "code",
   "execution_count": null,
   "metadata": {},
   "outputs": [],
   "source": [
    "test = Protein_Describer(proteins_dict)\n",
    "test.proteins\n",
    "#khl_vs_jfs = test.proteins_align('4BED:C','6R83:6a')"
   ]
  },
  {
   "cell_type": "code",
   "execution_count": null,
   "metadata": {},
   "outputs": [],
   "source": [
    "khl_vs_jfs"
   ]
  },
  {
   "cell_type": "markdown",
   "metadata": {},
   "source": [
    "#### Shared Elements"
   ]
  },
  {
   "cell_type": "code",
   "execution_count": null,
   "metadata": {},
   "outputs": [],
   "source": [
    "khl_vs_jfs[\"shared\"]"
   ]
  },
  {
   "cell_type": "code",
   "execution_count": null,
   "metadata": {},
   "outputs": [],
   "source": []
  },
  {
   "cell_type": "code",
   "execution_count": null,
   "metadata": {},
   "outputs": [],
   "source": [
    "larger_items = khl_vs_jfs[\"shared_count\"]"
   ]
  },
  {
   "cell_type": "code",
   "execution_count": null,
   "metadata": {},
   "outputs": [],
   "source": [
    "{k:e for k,e in larger_items.items() if len(k) > 5}"
   ]
  },
  {
   "cell_type": "code",
   "execution_count": null,
   "metadata": {},
   "outputs": [],
   "source": [
    "proteins_dict['4BED:C'][\"protein\"].find(\"HGMPTFPHWHRLY\")"
   ]
  },
  {
   "cell_type": "code",
   "execution_count": null,
   "metadata": {},
   "outputs": [],
   "source": [
    "image = mpimg.imread(\"unchar.jpeg\")\n",
    "plt.figure(figsize=(5,5), dpi =300);\n",
    "plt.imshow(image);\n",
    "plt.title(\"Uncharacterized?\")\n",
    "plt.axis(\"off\")\n",
    "plt.show();"
   ]
  },
  {
   "cell_type": "markdown",
   "metadata": {},
   "source": [
    "## 6R83"
   ]
  },
  {
   "cell_type": "markdown",
   "metadata": {},
   "source": [
    "### General Information"
   ]
  },
  {
   "cell_type": "markdown",
   "metadata": {},
   "source": [
    "#### Protein Name"
   ]
  },
  {
   "cell_type": "code",
   "execution_count": null,
   "metadata": {},
   "outputs": [],
   "source": [
    "image = mpimg.imread(\"6r83_assembly-1.jpeg\")\n",
    "plt.figure(figsize=(5,5), dpi =300);\n",
    "plt.imshow(image);\n",
    "plt.title(\"6R83 Protein\")\n",
    "plt.show();"
   ]
  },
  {
   "cell_type": "markdown",
   "metadata": {},
   "source": [
    "#### Species Name"
   ]
  },
  {
   "cell_type": "code",
   "execution_count": null,
   "metadata": {},
   "outputs": [],
   "source": [
    "image = mpimg.imread(\"Todarodes_pacificus.jpg\")\n",
    "plt.figure(figsize=(5,5), dpi =300);\n",
    "plt.imshow(image);\n",
    "plt.title(\"Todarodes Pacifics (Japanese Flying Squid)\")\n",
    "plt.axis(\"off\")\n",
    "plt.show();"
   ]
  },
  {
   "cell_type": "markdown",
   "metadata": {},
   "source": [
    "## Animals listed on NIH Genome List"
   ]
  },
  {
   "cell_type": "markdown",
   "metadata": {},
   "source": [
    "#### Taxonomy"
   ]
  },
  {
   "cell_type": "code",
   "execution_count": null,
   "metadata": {},
   "outputs": [],
   "source": [
    "pd.DataFrame.from_dict({\"kingdom\" : \"Animalia\",\n",
    "                        \"phylum\" : \"Mollusca\",\n",
    "                        \"class\" : \"Cephalopoda\",\n",
    "                        \"order\" : \"Teuthida\",\n",
    "                        \"family\" : \"Ommastrephidae\",\n",
    "                        \"genus\" : \"Todarodes\",\n",
    "                        \"species\" : \"Todarodes pacificus\"}, orient='index', columns = {\"entry\"})"
   ]
  },
  {
   "cell_type": "markdown",
   "metadata": {},
   "source": [
    "#### Habitat and Biology"
   ]
  },
  {
   "cell_type": "markdown",
   "metadata": {},
   "source": [
    "An oceanic and neritic species occurring within abroad temperature range from about 5° to 27° C,  usually in surface waters to 100 m depth and, to a minor extent, down to 500 m depth. <b>During its lifespan of about 1 year</b> a northward migration occurs first, followed by another one in southward direction, usually in close correlation with changes of the main surface currents. Large aggregations occur in small gyres and along oceanic fronts.\n",
    "Three independently breeding subpopulations can be distinguished in Japanese waters. The main group spawns in winter in the East China Sea, the second in autumn, west of Kyushu, and the third, minor group in spring/summer in the Sea of Japan as well as off northeastern Japan. Postspawning mortality is very high. The males of all 3 subpopulations mature before the females and transfer their spermatophores on the still immature females (in water temperatures of 13 to 18° C). With the progressing southward migration, females mature and spawn 300 to 4 000 small, elliptical or semi-spherical eggs (greatest diameter 0.7 to 0.8 mm) embedded in a gelatinous capsule (egg mass). Spawning occurs usually at water temperatures between 15 and 20°C, and, depending on the temperature, the larvae hatch after an incubation period of 102 to 113 hours.  Growth rates are directly related with temperature and inversely with size. Main food items are myctophids, anchovies (i.e., Engraulis japonicus ), crustaceans, gastropod larvae, and chaetognaths . Cannibalism is common.Predators include rays, dolphins (Coryphaena hippurus, balaen whales, and the northern fur seal).\n",
    "\n",
    "[1] US. FAO: http://www.fao.org/fishery/species/3567/en Web. 03 Aug. 2020."
   ]
  },
  {
   "cell_type": "markdown",
   "metadata": {},
   "source": [
    "## Shotgun alignment"
   ]
  },
  {
   "cell_type": "markdown",
   "metadata": {},
   "source": [
    "### Pacific Flying Squid"
   ]
  },
  {
   "cell_type": "markdown",
   "metadata": {},
   "source": [
    "This information was downlaoded from NIH Blast with the following settings:\n",
    "\n",
    "Search: dbj|AB897790.1 <br>\n",
    "Max Target: 500 <br>\n",
    "Short queries: yes <br>\n",
    "Expect threshold: 10 <br>\n",
    "Word size: 11 <br>\n",
    "max matches: 0 <br>\n",
    "match/mismatch scores: 2,-3 <br>\n",
    "Gap Costs Existence: 5, Extension: 2 <br>"
   ]
  },
  {
   "cell_type": "code",
   "execution_count": null,
   "metadata": {},
   "outputs": [],
   "source": [
    "from IPython.display import IFrame\n",
    "IFrame(\"./BlastTree.pdf\", width=600, height=1000)"
   ]
  },
  {
   "cell_type": "markdown",
   "metadata": {},
   "source": [
    "### Megathura crenulata mRNA for keyhole limpet hemocyanin2 (klh2 gene) Search Parameters"
   ]
  },
  {
   "cell_type": "markdown",
   "metadata": {},
   "source": [
    "<table id=\"params\" class=\"dbInfo\"> \n",
    "\t\t\t\t<caption></caption> \n",
    "\t\t\t\t<tr><th><div>Search parameter name</div></th><th><div>Search parameter value</div></th></tr> \n",
    "\t\t\t\t<tr><td>Program</td><td>blastn</td></tr><tr><td>Word size</td><td>11</td></tr><tr><td>Expect value</td><td>10</td></tr><tr><td>Hitlist size</td><td>1000</td></tr><tr><td>Match/Mismatch scores</td><td>2,-3</td></tr><tr><td>Gapcosts</td><td>5,2</td></tr><tr><td>Low Complexity Filter</td><td>Yes</td></tr><tr><td>Filter string </td><td>L;m;</td></tr><tr><td>Genetic Code</td><td>1</td></tr>  \n",
    "\t\t\t\t</table> \n",
    "<!-- \t\t\t\t <table id=\"dbStat\" class=\"dbInfo\">\n",
    " <caption>Database</caption>\n",
    " <tr><th><div>Database parameter name</div></th><th><div>Database parameter value</div></th></tr>\n",
    " <tr><td>Posted date</td><td>Aug 17, 2020  8:09 PM</td></tr>\n",
    " <tr><td>Number of letters</td><td>317,111,336,329</td></tr>\n",
    " <tr><td>Number of sequences</td><td>60,179,710</td></tr>\n",
    " <tr><td>Entrez query</td><td>\n",
    " <div class=\"hidden\">Includes: </div>\n",
    " <div class=\"hidden\">Excludes: </div>\n",
    " <div class=\"\">None</div>\n",
    " </td></tr> \n",
    " </table>\n",
    "  \n",
    " <table id=\"Kappa\" class=\"dbInfo show xgl\"> \n",
    "<caption>Karlin-Altschul statistics</caption> \n",
    " <tr><th><div>Params</div></th><th><div>Ungapped</div></th><th><div>Gapped</div></th></tr>\n",
    " <tr><td>Lambda</td><td>0.633731</td><td>0.625</td></tr>\n",
    " <tr><td>K</td><td>0.408146</td><td>0.41</td></tr>\n",
    " <tr><td>H</td><td>0.912438</td><td>0.78</td></tr> \n",
    " \n",
    " </table> \n",
    " \n",
    " \n",
    " <table class=\"dbInfo show\" >\n",
    " <caption>Results Statistics</caption>\n",
    " <tr><th><div>Results Statistics parameter name</div></th><th><div>Results Statistics parameter value</div></th></tr>  \n",
    " <tr><td>Length adjustment</td><td> 42</td></tr><tr><td>Effective length of query</td><td> 10450</td></tr><tr><td>Effective length of database</td><td> 314583788509</td></tr><tr><td>Effective search space</td><td> 3287400589919050</td></tr><tr><td>Effective search space used</td><td> 3287400589919050</td></tr>\n",
    " </table> -->"
   ]
  },
  {
   "cell_type": "code",
   "execution_count": null,
   "metadata": {},
   "outputs": [],
   "source": [
    "from IPython.display import IFrame\n",
    "IFrame(\"./keyhole_clade.pdf\", width=500, height=500)"
   ]
  },
  {
   "cell_type": "code",
   "execution_count": null,
   "metadata": {},
   "outputs": [],
   "source": [
    "%%bash\n",
    "\n",
    "cd ../data/keyhold\n",
    "ls"
   ]
  },
  {
   "cell_type": "code",
   "execution_count": null,
   "metadata": {},
   "outputs": [],
   "source": [
    "genes = {}\n",
    "khl_fasta = \"/media/mruggiero/LaCie/ExtraDrive2/Documents/BioVillage/data/keyhold/250.txt\"\n",
    "for record in SeqIO.parse(khl_fasta, \"fasta\"):\n",
    "    print(record.id)\n",
    "    #     # Create an empty dictionary to populate\n",
    "#     proteins[record.id.split(\"|\")[0]] = {}\n",
    "#     entry = proteins[record.id.split(\"|\")[0]]\n",
    "    \n",
    "#     # Set values to explore\n",
    "#     entry[\"sequence\"] = record.id.split(\"|\")[0]\n",
    "#     entry[\"family\"]  = entry[\"sequence\"].split(\":\")[0]\n",
    "#     entry[\"unit\"]    = entry[\"sequence\"].split(\":\")[1]\n",
    "#     entry[\"protein\"] = str(record.seq)\n",
    "#     entry[\"length\"]  = len(entry[\"protein\"])\n",
    "    \n",
    "#     indexed_counts = kmers(entry[\"protein\"], kmer_percent = .05)\n",
    "    \n",
    "#     for length in indexed_counts:\n",
    "#         entry[length] = indexed_counts[length]"
   ]
  },
  {
   "cell_type": "code",
   "execution_count": null,
   "metadata": {},
   "outputs": [],
   "source": [
    "record"
   ]
  },
  {
   "cell_type": "code",
   "execution_count": null,
   "metadata": {},
   "outputs": [],
   "source": [
    "# These fasta files are all combined, but if they \n",
    "# Were separate, we could use fasta in glob(\"*.fasta\"):\n",
    "\n",
    "khl_fasta = \"250.txt\"\n",
    "with open(khl_fasta) as f:\n",
    "    # Set output file name\n",
    "    aligned_output = \"{}-aligned.fasta\".format(khl_fasta)\n",
    "\n",
    "    # Apply MAFFT alignement\n",
    "    from Bio.Align.Applications import MafftCommandline\n",
    "    mafft_cline = MafftCommandline(input= str(khl_fasta))\n",
    "    aligned, report = mafft_cline()\n",
    "    \n",
    "    # Uncomment to view MAFFT report\n",
    "    # print(report)\n",
    "    with open(aligned_output, \"w\") as handle:\n",
    "        handle.write(aligned)"
   ]
  },
  {
   "cell_type": "code",
   "execution_count": null,
   "metadata": {},
   "outputs": [],
   "source": [
    "from Bio.Align.Applications import MafftCommandline\n"
   ]
  },
  {
   "cell_type": "code",
   "execution_count": null,
   "metadata": {},
   "outputs": [],
   "source": []
  },
  {
   "cell_type": "code",
   "execution_count": null,
   "metadata": {},
   "outputs": [],
   "source": []
  },
  {
   "cell_type": "code",
   "execution_count": null,
   "metadata": {},
   "outputs": [],
   "source": []
  },
  {
   "cell_type": "code",
   "execution_count": null,
   "metadata": {},
   "outputs": [],
   "source": []
  },
  {
   "cell_type": "code",
   "execution_count": null,
   "metadata": {},
   "outputs": [],
   "source": []
  },
  {
   "cell_type": "code",
   "execution_count": null,
   "metadata": {},
   "outputs": [],
   "source": []
  },
  {
   "cell_type": "code",
   "execution_count": null,
   "metadata": {},
   "outputs": [],
   "source": []
  },
  {
   "cell_type": "code",
   "execution_count": null,
   "metadata": {},
   "outputs": [],
   "source": []
  },
  {
   "cell_type": "code",
   "execution_count": null,
   "metadata": {},
   "outputs": [],
   "source": [
    "%%bash\n",
    "\n",
    "cd ..\n",
    "cd data\n",
    "cd /media/mruggiero/ExtraDrive2/Documents/BioVillage/data/Octopus_vulgaris/ncbi-genomes-2020-07-23\n",
    "ls"
   ]
  },
  {
   "cell_type": "markdown",
   "metadata": {},
   "source": [
    "Using the Mafft algorithm is an option, but is seems to take a long time"
   ]
  },
  {
   "cell_type": "code",
   "execution_count": null,
   "metadata": {},
   "outputs": [],
   "source": [
    "# These fasta files are all combined, but if they \n",
    "# Were separate, we could use fasta in glob(\"*.fasta\"):\n",
    "\n",
    "fasta = \"/media/mruggiero/ExtraDrive2/Documents/BioVillage/data/Octopus_vulgaris/\"\\\n",
    "        \"ncbi-genomes-2020-07-23/GCA_003957725.1_ASM395772v1_genomic.fna\"\n",
    "with open(fasta) as f:\n",
    "    # Set output file name\n",
    "    aligned_output = \"{}-aligned.fasta\".format(fasta)\n",
    "\n",
    "    # Apply MAFFT alignement\n",
    "    from Bio.Align.Applications import MafftCommandline\n",
    "    mafft_cline = MafftCommandline(input= str(fasta))\n",
    "    aligned, report = mafft_cline()\n",
    "    \n",
    "    # Uncomment to view MAFFT report\n",
    "    # print(report)\n",
    "    with open(aligned_output, \"w\") as handle:\n",
    "        handle.write(aligned)"
   ]
  },
  {
   "cell_type": "code",
   "execution_count": null,
   "metadata": {},
   "outputs": [],
   "source": []
  },
  {
   "cell_type": "code",
   "execution_count": null,
   "metadata": {},
   "outputs": [],
   "source": []
  },
  {
   "cell_type": "markdown",
   "metadata": {},
   "source": [
    "### Biopython import"
   ]
  },
  {
   "cell_type": "markdown",
   "metadata": {},
   "source": [
    "Good amount of code form https://www.youtube.com/watch?v=mL8NPpRxgJA"
   ]
  },
  {
   "cell_type": "code",
   "execution_count": null,
   "metadata": {},
   "outputs": [],
   "source": [
    "pdb1 = PDBList()\n",
    "pdb1.retrieve_pdb_file(\"6R83\")"
   ]
  },
  {
   "cell_type": "code",
   "execution_count": null,
   "metadata": {},
   "outputs": [],
   "source": [
    "%%bash\n",
    "\n",
    "cd r8; ls"
   ]
  },
  {
   "cell_type": "code",
   "execution_count": null,
   "metadata": {},
   "outputs": [],
   "source": [
    "parser = MMCIFParser()\n",
    "structure = parser.get_structure(\"6R83\", \"r8/6r83.cif\")"
   ]
  },
  {
   "cell_type": "code",
   "execution_count": null,
   "metadata": {},
   "outputs": [],
   "source": [
    "methods_in_structure = [a for a in dir(structure) if not a.startswith(\"_\")]\n",
    "\", \".join(methods_in_structure)"
   ]
  },
  {
   "cell_type": "code",
   "execution_count": null,
   "metadata": {},
   "outputs": [],
   "source": [
    "pymol.fetch(\"6R83\")"
   ]
  },
  {
   "cell_type": "code",
   "execution_count": null,
   "metadata": {},
   "outputs": [],
   "source": [
    "dir(pymol)[5:10]"
   ]
  },
  {
   "cell_type": "markdown",
   "metadata": {},
   "source": [
    "#### PYMOL (still experimental)"
   ]
  },
  {
   "cell_type": "code",
   "execution_count": null,
   "metadata": {},
   "outputs": [],
   "source": [
    "pymol.select('ligand', 'resn MRV')\n",
    "pymol.show_as('sticks', 'ligand')\n",
    "pymol.show('spheres', 'ligand')\n",
    "pymol.set('stick_radius', '.07', 'ligand')\n",
    "pymol.set('sphere_scale', '.25', 'ligand')\n",
    "pymol.set('sphere_quality', '4', 'ligand')\n",
    "pymol.show_as('spheres', '6R83 and not ligand')\n",
    "pymol.set('sphere_transparency', '.2', '6R83 and not ligand')\n",
    "pymol.center('ligand')\n",
    "pymol.orient('ligand')\n",
    "pymol.zoom('ligand', '10')\n",
    "pymol.do('rotate z,180; rotate x,90;')\n",
    "pymol.center('ligand')\n",
    "pymol.clip('near', '5')\n",
    "pymol.bg_color('white')\n",
    "pymol.do('util.cbaw;')\n",
    "pymol.color('slate', 'elem N')\n",
    "pymol.set('light_count', '8')\n",
    "pymol.set('spec_count', '1')\n",
    "pymol.set('shininess', '10')\n",
    "pymol.set('specular', '0.25')\n",
    "pymol.set('ambient', '0')\n",
    "pymol.set('direct', '0')\n",
    "pymol.set('reflect', '1.5')\n",
    "pymol.set('ray_shadow_decay_factor', '0.3')\n",
    "pymol.set('ray_shadow_decay_range', '1')\n",
    "pymol.unset('depth_cue')\n",
    "\n",
    "\n",
    "# Ligand specific\n",
    "pymol.color('black', 'elem C and ligand')\n",
    "pymol.set('stick_color', 'white')\n",
    "pymol.ray()\n",
    "\n",
    "#pymol.display()\n"
   ]
  },
  {
   "cell_type": "markdown",
   "metadata": {},
   "source": [
    "#### NV trouble, not sure what is wrong"
   ]
  },
  {
   "cell_type": "code",
   "execution_count": null,
   "metadata": {},
   "outputs": [],
   "source": [
    "view = nv.show_biopython(structure)\n",
    "#view.clear_representations()\n",
    "#view.add_ball_and_stick()"
   ]
  },
  {
   "cell_type": "markdown",
   "metadata": {},
   "source": [
    "### Align fasta files for Hemocyanin results"
   ]
  },
  {
   "cell_type": "code",
   "execution_count": null,
   "metadata": {},
   "outputs": [],
   "source": [
    "# These fasta files are all combined, but if they \n",
    "# Were separate, we could use fasta in glob(\"*.fasta\"):\n",
    "\n",
    "fasta = \"rcsb_model.fasta\"\n",
    "with open(\"rcsb_model.fasta\") as f:\n",
    "    # Set output file name\n",
    "    aligned_output = \"{}-aligned.fasta\".format(fasta)\n",
    "\n",
    "    # Apply MAFFT alignement\n",
    "    from Bio.Align.Applications import MafftCommandline\n",
    "    mafft_cline = MafftCommandline(input= str(fasta))\n",
    "    aligned, report = mafft_cline()\n",
    "    \n",
    "    # Uncomment to view MAFFT report\n",
    "    # print(report)\n",
    "    with open(aligned_output, \"w\") as handle:\n",
    "        handle.write(aligned)"
   ]
  },
  {
   "cell_type": "markdown",
   "metadata": {},
   "source": [
    "## Sources"
   ]
  },
  {
   "cell_type": "markdown",
   "metadata": {},
   "source": [
    "[[1]](https://www.ncbi.nlm.nih.gov/pmc/articles/PMC4243888/) Swaminathan, Ashwin et al. “Keyhole limpet haemocyanin - a model antigen for human immunotoxicological studies.” British journal of clinical pharmacology vol. 78,5 (2014): 1135-42. doi:10.1111/bcp.12422"
   ]
  },
  {
   "cell_type": "code",
   "execution_count": null,
   "metadata": {},
   "outputs": [],
   "source": []
  }
 ],
 "metadata": {
  "kernelspec": {
   "display_name": "Python 3",
   "language": "python",
   "name": "python3"
  },
  "language_info": {
   "codemirror_mode": {
    "name": "ipython",
    "version": 3
   },
   "file_extension": ".py",
   "mimetype": "text/x-python",
   "name": "python",
   "nbconvert_exporter": "python",
   "pygments_lexer": "ipython3",
   "version": "3.7.8"
  },
  "latex_envs": {
   "LaTeX_envs_menu_present": true,
   "autoclose": false,
   "autocomplete": true,
   "bibliofile": "biblio.bib",
   "cite_by": "apalike",
   "current_citInitial": 1,
   "eqLabelWithNumbers": true,
   "eqNumInitial": 1,
   "hotkeys": {
    "equation": "Ctrl-E",
    "itemize": "Ctrl-I"
   },
   "labels_anchors": false,
   "latex_user_defs": false,
   "report_style_numbering": false,
   "user_envs_cfg": false
  },
  "toc": {
   "base_numbering": 1,
   "nav_menu": {},
   "number_sections": false,
   "sideBar": false,
   "skip_h1_title": true,
   "title_cell": "Table of Contents",
   "title_sidebar": "Contents",
   "toc_cell": true,
   "toc_position": {
    "height": "calc(100% - 180px)",
    "left": "10px",
    "top": "150px",
    "width": "165px"
   },
   "toc_section_display": true,
   "toc_window_display": true
  }
 },
 "nbformat": 4,
 "nbformat_minor": 4
}
