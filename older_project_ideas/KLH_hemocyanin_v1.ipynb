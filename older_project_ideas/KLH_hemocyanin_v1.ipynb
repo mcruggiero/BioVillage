{
 "cells": [
  {
   "cell_type": "markdown",
   "metadata": {},
   "source": [
    "# KLH  Phylogeny"
   ]
  },
  {
   "cell_type": "code",
   "execution_count": 1,
   "metadata": {},
   "outputs": [],
   "source": [
    "# Author: Dean Hoffer\n",
    "# This script grabs the protein sequence for KLH1 and KLH2 from uniprot,\n",
    "# blasts the protein sequence,\n",
    "# and returns protein IDs for proteins with an e-value of less than 1e-7.\n",
    "# Then the fasta files are pulled from Entrez, \n",
    "# multiple sequence analysis is done by Clustalw2,\n",
    "# and a phylogenetic tree is created"
   ]
  },
  {
   "cell_type": "code",
   "execution_count": 3,
   "metadata": {},
   "outputs": [],
   "source": [
    "import requests\n",
    "import subprocess\n",
    "from Bio.Blast import NCBIWWW, NCBIXML\n",
    "from Bio import Entrez, SeqIO, AlignIO, Phylo\n",
    "from Bio.Align.Applications import ClustalwCommandline\n",
    "Entrez.email = \"hofferd78@gmail.com\""
   ]
  },
  {
   "cell_type": "code",
   "execution_count": 4,
   "metadata": {
    "scrolled": true
   },
   "outputs": [],
   "source": [
    "def write_fasta(filename, header, sequence):\n",
    "    \"\"\"Function to write fasta files\n",
    "    filename: string, should end in \".fasta\"\n",
    "    header: string, sequence header\n",
    "    sequence: string, sequence content\n",
    "    \n",
    "    >>>write_fasta(\"KLH1.fasta\", KLH1_header, KLH1_seq)\n",
    "    \"\"\"\n",
    "    f = open(filename, \"a\")\n",
    "    f.write(header)\n",
    "    for line in sequence:\n",
    "        f.write(\"\\n\")\n",
    "        f.write(line.strip(\"'\"))\n",
    "    f.close()"
   ]
  },
  {
   "cell_type": "markdown",
   "metadata": {},
   "source": [
    "## Blast KLH1 and KLH2"
   ]
  },
  {
   "cell_type": "markdown",
   "metadata": {},
   "source": [
    "### Get KLH1 and KLH2 protein sequences from uniprot"
   ]
  },
  {
   "cell_type": "code",
   "execution_count": 5,
   "metadata": {},
   "outputs": [],
   "source": [
    "# get protein sequence using KLH1 and KLH2 uniprot protein ID\n",
    "KLH1 = requests.get(\"https://www.uniprot.org/uniprot/Q10583.fasta\")\n",
    "KLH2 = requests.get(\"https://www.uniprot.org/uniprot/Q10584.fasta\")"
   ]
  },
  {
   "cell_type": "code",
   "execution_count": 6,
   "metadata": {},
   "outputs": [],
   "source": [
    "# wrangle data into fasta format\n",
    "KLH1_resp = str(KLH1.content).split('\\\\n')\n",
    "KLH2_resp = str(KLH2.content).split('\\\\n')\n",
    "\n",
    "KLH1_header = KLH1_resp[0][2:]\n",
    "KLH1_seq = KLH1_resp[1:]\n",
    "\n",
    "KLH2_header = KLH2_resp[0][2:]\n",
    "KLH2_seq = KLH2_resp[1:]"
   ]
  },
  {
   "cell_type": "code",
   "execution_count": 10,
   "metadata": {
    "scrolled": true
   },
   "outputs": [],
   "source": [
    "# create empty files\n",
    "KLH1_fasta = \"KLH1.faa\"\n",
    "KLH2_fasta = \"KLH2.faa\"\n",
    "f1 = open(KLH1_fasta, \"w\")\n",
    "f2 = open(KLH2_fasta, \"w\")"
   ]
  },
  {
   "cell_type": "code",
   "execution_count": 11,
   "metadata": {},
   "outputs": [],
   "source": [
    "# write KLH1.faa and KLH2.faa \n",
    "write_fasta(KLH1_fasta, KLH1_header, KLH1_seq)\n",
    "f1.close()\n",
    "write_fasta(KLH2_fasta, KLH2_header, KLH2_seq)\n",
    "f2.close()"
   ]
  },
  {
   "cell_type": "markdown",
   "metadata": {},
   "source": [
    "### Blastp KLH1 and KLH2 protein sequences to swiss prot database"
   ]
  },
  {
   "cell_type": "code",
   "execution_count": 12,
   "metadata": {},
   "outputs": [],
   "source": [
    "# protein BLAST KLH1 fasta to swissprot database over the internet and save results to XML file\n",
    "KLH1_string = open(KLH1_fasta).read()\n",
    "KLH1_result_handle = NCBIWWW.qblast(\"blastp\", \"swissprot\", KLH1_string)\n",
    "with open(\"KLH1_swissprot.xml\", \"w\") as out_handle:\n",
    "    out_handle.write(KLH1_result_handle.read())\n",
    "KLH1_result_handle.close()"
   ]
  },
  {
   "cell_type": "code",
   "execution_count": 13,
   "metadata": {
    "scrolled": false
   },
   "outputs": [],
   "source": [
    "# protein BLAST KLH2 fasta to swissprot database over the internet and save results to XML file\n",
    "KLH2_string = open(KLH2_fasta).read()\n",
    "KLH2_result_handle = NCBIWWW.qblast(\"blastp\", \"swissprot\", KLH2_string)\n",
    "with open(\"KLH2_swissprot.xml\", \"w\") as out_handle:\n",
    "    out_handle.write(KLH2_result_handle.read())\n",
    "KLH2_result_handle.close()"
   ]
  },
  {
   "cell_type": "markdown",
   "metadata": {},
   "source": [
    "### Parse blast results for top hits"
   ]
  },
  {
   "cell_type": "code",
   "execution_count": 14,
   "metadata": {},
   "outputs": [],
   "source": [
    "# open and read XML blast result files\n",
    "KLH1_handle = open(\"KLH1_swissprot.xml\")\n",
    "KLH2_handle = open(\"KLH2_swissprot.xml\")\n",
    "KLH1_blast_record = NCBIXML.read(KLH1_handle)\n",
    "KLH2_blast_record = NCBIXML.read(KLH2_handle)"
   ]
  },
  {
   "cell_type": "code",
   "execution_count": 17,
   "metadata": {},
   "outputs": [],
   "source": [
    "# parse blast results to create list of protein IDs with a blast E value lower than 1e-7\n",
    "KLH1_blast_hits = []\n",
    "E_VALUE_THRESH = 0.0000001\n",
    "for alignment in KLH1_blast_record.alignments:\n",
    "#     print(\"***ALIGNMENT***\")\n",
    "    for hsp in alignment.hsps:\n",
    "        if hsp.expect < E_VALUE_THRESH:\n",
    "            for entry in str(alignment.title).split(\">\"):\n",
    "                ID = entry.split(\"|\")[1]\n",
    "                if ID not in KLH1_blast_hits:\n",
    "                    KLH1_blast_hits.append(ID)\n",
    "#                 print(entry.split(\"|\")[1])\n",
    "#             print(str(alignment.title))\n",
    "            break"
   ]
  },
  {
   "cell_type": "code",
   "execution_count": 18,
   "metadata": {
    "scrolled": true
   },
   "outputs": [],
   "source": [
    "# parse blast results to create list of protein IDs with a blast E value lower than 1e-7\n",
    "KLH2_blast_hits = []\n",
    "for alignment in KLH2_blast_record.alignments:\n",
    "#     print(\"***ALIGNMENT***\")\n",
    "    for hsp in alignment.hsps:\n",
    "        if hsp.expect < E_VALUE_THRESH:\n",
    "            for entry in str(alignment.title).split(\">\"):\n",
    "                ID = entry.split(\"|\")[1]\n",
    "                if ID not in KLH2_blast_hits:\n",
    "                    KLH2_blast_hits.append(ID)           \n",
    "#                 print(entry.split(\"|\")[1])\n",
    "#             print(str(alignment.title))\n",
    "            break"
   ]
  },
  {
   "cell_type": "markdown",
   "metadata": {},
   "source": [
    "## Multisequence Alignment"
   ]
  },
  {
   "cell_type": "markdown",
   "metadata": {},
   "source": [
    "### Get sequences for top hits"
   ]
  },
  {
   "cell_type": "code",
   "execution_count": 21,
   "metadata": {},
   "outputs": [],
   "source": [
    "# get protein sequences from Entrez and write to fasta file\n",
    "with open(\"KLH1_blast_results.faa\", \"w\") as out_handle:\n",
    "    for p_id in KLH1_blast_hits:\n",
    "        fasta = Entrez.efetch(db = \"protein\", id = p_id, rettype = \"fasta\")\n",
    "        fasta_record = SeqIO.read(fasta, \"fasta\")\n",
    "        out_handle.write(f'>{fasta_record.id}|{fasta_record.description}\\n{fasta_record.seq}\\n')"
   ]
  },
  {
   "cell_type": "code",
   "execution_count": 22,
   "metadata": {},
   "outputs": [],
   "source": [
    "# get protein sequences from Entrez and write to fasta file\n",
    "with open(\"KLH2_blast_results.faa\", \"w\") as out_handle:\n",
    "    for p_id in KLH2_blast_hits:\n",
    "        fasta = Entrez.efetch(db = \"protein\", id = p_id, rettype = \"fasta\")\n",
    "        fasta_record = SeqIO.read(fasta, \"fasta\")\n",
    "        out_handle.write(f'>{fasta_record.id}|{fasta_record.description}\\n{fasta_record.seq}\\n')"
   ]
  },
  {
   "cell_type": "markdown",
   "metadata": {},
   "source": [
    "### Clustalw2 MSA"
   ]
  },
  {
   "cell_type": "code",
   "execution_count": 23,
   "metadata": {},
   "outputs": [],
   "source": [
    "# perform multisequence alignment with blast results fasta files\n",
    "# alignment files can be uploaded to EMBL-EBI ClustalW2 phylogeny tool located at:\n",
    "# http://www.ebi.ac.uk/Tools/services/web/toolform.ebi?tool=clustalw2_phylogeny\n",
    "cline = ClustalwCommandline(\"clustalw2\", infile = \"KLH1_blast_results.faa\")\n",
    "stdout, stderr = cline()\n",
    "KLH1_msa_align = AlignIO.read(\"KLH1_blast_results.aln\", \"clustal\")\n",
    "\n",
    "cline = ClustalwCommandline(\"clustalw2\", infile = \"KLH2_blast_results.faa\")\n",
    "stdout, stderr = cline()\n",
    "KLH2_msa_align = AlignIO.read(\"KLH2_blast_results.aln\", \"clustal\")"
   ]
  },
  {
   "cell_type": "markdown",
   "metadata": {},
   "source": [
    "### Create Phylogenetic Tree"
   ]
  },
  {
   "cell_type": "code",
   "execution_count": 24,
   "metadata": {
    "collapsed": true
   },
   "outputs": [
    {
     "name": "stdout",
     "output_type": "stream",
     "text": [
      "   _______ sp|Q10583.2|HCY1_MEGCR|sp|Q10583.2|HC...\n",
      " ,|\n",
      " ||_____________ sp|P12031.2|HCYB_HELPO|sp|P12031.2|HC...\n",
      " |\n",
      " |            , sp|O61363.1|HCYG_ENTDO|sp|O61363.1|HC...\n",
      " |        ____|\n",
      " |     __|    |_ sp|P12659.2|HCYA_ENTDO|sp|P12659.2|HC...\n",
      " |    |  |\n",
      " |   ,|  |________ sp|P56826.1|HCYG_SEPOF|sp|P56826.1|HC...\n",
      " |   ||\n",
      " |  ,||___________________ sp|P56824.1|HCYC_SEPOF|sp|P56824.1|HC...\n",
      " |  ||\n",
      " |  ||________________ sp|P56825.1|HCYE_SEPOF|sp|P56825.1|HC...\n",
      " |  |\n",
      " |  |                       __ sp|P06845.3|TYRO_STRGA|sp|P06845.3|TY...\n",
      " |  |                     ,|\n",
      " |  |                    ,||__ sp|P07524.2|TYRO_STRAT|sp|P07524.2|TY...\n",
      " |  |                    ||\n",
      " |  |              ______||____ sp|P55023.2|TYRO_STRLN|sp|P55023.2|TY...\n",
      " |  |             |      |\n",
      " |  |        _____|      |_____ sp|P55022.2|TYRO_STRGB|sp|P55022.2|TY...\n",
      " |  |       |     |\n",
      " | _|      ,|     |_____________ sp|B1VTI5.1|GRIF_STRGG|sp|B1VTI5.1|GR...\n",
      " || |      ||\n",
      " || |      ||      ________________ sp|Q19673.5|TYR3_CAEEL|sp|Q19673.5|TY...\n",
      " || |     ,||_____|\n",
      " || |     ||      |_______________ sp|P34269.2|TYR1_CAEEL|sp|P34269.2|TY...\n",
      " || |     ||\n",
      " || |     ||                     , sp|P86952.1|TYRO_PINMA|sp|P86952.1|TY...\n",
      " || |     ||_____________________|\n",
      " || |     |                      | sp|H2A0L1.1|TYRO2_PINMG|sp|H2A0L1.1|T...\n",
      " || |     |\n",
      " || |     |______________________ sp|Q00234.1|TYRO_ASPOR|sp|Q00234.1|TY...\n",
      " || |     |\n",
      " || |     |             _________ sp|P00440.5|TYRO_NEUCR|sp|P00440.5|TY...\n",
      " || |_____|    ________|\n",
      " ||       |   |        |_________ sp|Q92396.1|TYRO_PODAS|sp|Q92396.1|TY...\n",
      "_||       |   |\n",
      " ||       |___|      _____________ sp|Q00024.1|PPO1_AGABI|sp|Q00024.1|PP...\n",
      " ||       |   |  ___|\n",
      " ||       |   | |   |____________ sp|A7BHQ9.1|TYRO_PHONA|sp|A7BHQ9.1|TY...\n",
      " ||       |   |_|\n",
      " ||       |     |        ________ sp|O42713.1|PPO2_AGABI|sp|O42713.1|PP...\n",
      " ||       |     |_______|\n",
      " ||       |             |_________ sp|C7FF05.1|PPO4_AGABI|sp|C7FF05.1|PP...\n",
      " ||       |\n",
      " ||       |  _____________________ sp|P33180.1|TYRO_RHIML|sp|P33180.1|TY...\n",
      " ||       |_|\n",
      " ||         |_____________________ sp|Q6UIL3.1|LAHY_LARTR|sp|Q6UIL3.1|LA...\n",
      " ||\n",
      " ||______________ sp|P83040.1|HCY2E_RAPVE|sp|P83040.1|H...\n",
      " |\n",
      " |      , sp|Q10584.2|HCY2_MEGCR|sp|Q10584.2|HC...\n",
      " |______|\n",
      " |      |____ sp|P81732.1|HC2C_MEGCR|sp|P81732.1|HC...\n",
      " |\n",
      " |  __________ sp|P56823.1|HCYG_HELPO|sp|P56823.1|HC...\n",
      " |_|\n",
      "   |___________ sp|P80960.2|HCY2A_RAPVE|sp|P80960.2|H...\n",
      "\n"
     ]
    }
   ],
   "source": [
    "# create and visualize phylogenetic tree for KLH1 multiple sequence alignment\n",
    "KLH1_tree = Phylo.read(\"KLH1_blast_results.dnd\", \"newick\")\n",
    "Phylo.draw_ascii(KLH1_tree)"
   ]
  },
  {
   "cell_type": "code",
   "execution_count": 25,
   "metadata": {
    "collapsed": true
   },
   "outputs": [
    {
     "name": "stdout",
     "output_type": "stream",
     "text": [
      "                       , sp|Q10584.2|HCY2_MEGCR|sp|Q10584.2|HC...\n",
      "             __________|\n",
      "            |          |_____ sp|P81732.1|HC2C_MEGCR|sp|P81732.1|HC...\n",
      "            |\n",
      "            |   _____________ sp|P56823.1|HCYG_HELPO|sp|P56823.1|HC...\n",
      "            |__|\n",
      "           _|  |______________ sp|P80960.2|HCY2A_RAPVE|sp|P80960.2|H...\n",
      "          | |\n",
      "          | | __________ sp|Q10583.2|HCY1_MEGCR|sp|Q10583.2|HC...\n",
      "        __| ||\n",
      "       |  |  |_______________ sp|P12031.2|HCYB_HELPO|sp|P12031.2|HC...\n",
      "       |  |\n",
      "       |  |__________________ sp|P83040.1|HCY2E_RAPVE|sp|P83040.1|H...\n",
      "       |\n",
      "  _____|                , sp|O61363.1|HCYG_ENTDO|sp|O61363.1|HC...\n",
      " |     |          ______|\n",
      " |     |     ____|      |_ sp|P12659.2|HCYA_ENTDO|sp|P12659.2|HC...\n",
      " |     |    |    |\n",
      " |     |  __|    |___________ sp|P56826.1|HCYG_SEPOF|sp|P56826.1|HC...\n",
      " |     | |  |\n",
      " |     |_|  |______________________ sp|P56824.1|HCYC_SEPOF|sp|P56824.1|HC...\n",
      " |       |\n",
      " |       |____________________ sp|P56825.1|HCYE_SEPOF|sp|P56825.1|HC...\n",
      " |\n",
      " |                ____________ sp|P00440.5|TYRO_NEUCR|sp|P00440.5|TY...\n",
      " |    ___________|\n",
      " |   |           |____________ sp|Q92396.1|TYRO_PODAS|sp|Q92396.1|TY...\n",
      " |   |\n",
      " |  ,|             ____________ sp|O42713.1|PPO2_AGABI|sp|O42713.1|PP...\n",
      " |  ||    ________|\n",
      " |  ||   |        |____________ sp|C7FF05.1|PPO4_AGABI|sp|C7FF05.1|PP...\n",
      " |  ||___|\n",
      " |__|    |     ________________ sp|Q00024.1|PPO1_AGABI|sp|Q00024.1|PP...\n",
      " |  |    |____|\n",
      " |  |         |________________ sp|A7BHQ9.1|TYRO_PHONA|sp|A7BHQ9.1|TY...\n",
      " |  |\n",
      " |  |__________________________ sp|Q8J130.2|TYRO_ASPFU|sp|Q8J130.2|TY...\n",
      " |\n",
      " |                     ___ sp|P06845.3|TYRO_STRGA|sp|P06845.3|TY...\n",
      " |                   ,|\n",
      "_|                  ,||___ sp|P07524.2|TYRO_STRAT|sp|P07524.2|TY...\n",
      " |                  ||\n",
      " |          ________||_____ sp|P55023.2|TYRO_STRLN|sp|P55023.2|TY...\n",
      " |         |        |\n",
      " |   ______|        |______ sp|P55022.2|TYRO_STRGB|sp|P55022.2|TY...\n",
      " |  |      |\n",
      " | ,|      |________________ sp|B1VTI5.1|GRIF_STRGG|sp|B1VTI5.1|GR...\n",
      " | ||\n",
      " | ||       ___________________ sp|P34269.2|TYR1_CAEEL|sp|P34269.2|TY...\n",
      " |,||______|\n",
      " |||       |____________________ sp|Q19673.5|TYR3_CAEEL|sp|Q19673.5|TY...\n",
      " |||\n",
      " |||___________________________ sp|P86952.1|TYRO_PINMA|sp|P86952.1|TY...\n",
      " ||\n",
      " ||___________________________ sp|B8NM74.1|USTQ_ASPFN|sp|B8NM74.1|US...\n",
      " |\n",
      " | ___________________________ sp|P33180.1|TYRO_RHIML|sp|P33180.1|TY...\n",
      " ||\n",
      "  |____________________________ sp|O81103.1|PPO_PRUAR|sp|O81103.1|PPO...\n",
      "\n"
     ]
    }
   ],
   "source": [
    "# create and visualize phylogenetic tree for KLH2 multiple sequence alignment\n",
    "KLH2_tree = Phylo.read(\"KLH2_blast_results.dnd\", \"newick\")\n",
    "Phylo.draw_ascii(KLH2_tree)"
   ]
  }
 ],
 "metadata": {
  "kernelspec": {
   "display_name": "Python 3",
   "language": "python",
   "name": "python3"
  },
  "language_info": {
   "codemirror_mode": {
    "name": "ipython",
    "version": 3
   },
   "file_extension": ".py",
   "mimetype": "text/x-python",
   "name": "python",
   "nbconvert_exporter": "python",
   "pygments_lexer": "ipython3",
   "version": "3.7.8"
  },
  "latex_envs": {
   "LaTeX_envs_menu_present": true,
   "autoclose": false,
   "autocomplete": true,
   "bibliofile": "biblio.bib",
   "cite_by": "apalike",
   "current_citInitial": 1,
   "eqLabelWithNumbers": true,
   "eqNumInitial": 1,
   "hotkeys": {
    "equation": "Ctrl-E",
    "itemize": "Ctrl-I"
   },
   "labels_anchors": false,
   "latex_user_defs": false,
   "report_style_numbering": false,
   "user_envs_cfg": false
  },
  "toc": {
   "base_numbering": 1,
   "nav_menu": {},
   "number_sections": true,
   "sideBar": true,
   "skip_h1_title": false,
   "title_cell": "Table of Contents",
   "title_sidebar": "Contents",
   "toc_cell": false,
   "toc_position": {
    "height": "calc(100% - 180px)",
    "left": "10px",
    "top": "150px",
    "width": "309px"
   },
   "toc_section_display": true,
   "toc_window_display": false
  }
 },
 "nbformat": 4,
 "nbformat_minor": 4
}
